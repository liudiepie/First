{
  "nbformat": 4,
  "nbformat_minor": 0,
  "metadata": {
    "colab": {
      "name": "leetcode037.ipynb",
      "provenance": [],
      "authorship_tag": "ABX9TyNvvpgHbQNJq7YdJ/yy+kAS",
      "include_colab_link": true
    },
    "kernelspec": {
      "name": "python3",
      "display_name": "Python 3"
    },
    "language_info": {
      "name": "python"
    }
  },
  "cells": [
    {
      "cell_type": "markdown",
      "metadata": {
        "id": "view-in-github",
        "colab_type": "text"
      },
      "source": [
        "<a href=\"https://colab.research.google.com/github/liudiepie/Leetcode_Practice/blob/main/leetcode037.ipynb\" target=\"_parent\"><img src=\"https://colab.research.google.com/assets/colab-badge.svg\" alt=\"Open In Colab\"/></a>"
      ]
    },
    {
      "cell_type": "markdown",
      "metadata": {
        "id": "9d8oPIHsEnv2"
      },
      "source": [
        "# Construct Binary Tree from Preorder and Inorder Traversal"
      ]
    },
    {
      "cell_type": "code",
      "metadata": {
        "id": "YVgs2O5hEunj"
      },
      "source": [
        "#Definition for a binary tree node\n",
        "class TreeNode:\n",
        "  def __init__(self, x):\n",
        "    self.val = x\n",
        "    self.left = None\n",
        "    self.right = None"
      ],
      "execution_count": null,
      "outputs": []
    },
    {
      "cell_type": "code",
      "metadata": {
        "id": "-or5d57qLolr"
      },
      "source": [
        "class Solution:\n",
        "  def buildTree(self, preorder: List[int], inorder: List[int]) -> TreeNode:\n",
        "    if not preorder or not inorder:\n",
        "      return None\n",
        "\n",
        "    rootvalue = preorder[0]\n",
        "    root = TreeNode(rootvalue)\n",
        "    inorderIndex = inorder.index(rootValue)\n",
        "\n",
        "    root.left = self.buildTree(preorder[1:inorderIndex+1], inorder[:inorderIndex])\n",
        "    root.right = self.buildTree(preorder[inorderIndex+1:], inorder[inorderIndex+1:])\n",
        "\n",
        "    return root\n",
        "#Runtime: 200ms, Memory Usage: 87.8MB"
      ],
      "execution_count": null,
      "outputs": []
    }
  ]
}