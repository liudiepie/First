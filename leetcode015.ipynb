{
  "nbformat": 4,
  "nbformat_minor": 0,
  "metadata": {
    "colab": {
      "name": "leetcode015.ipynb",
      "provenance": [],
      "authorship_tag": "ABX9TyNinH2T54cdiFD0pbLC6/OA",
      "include_colab_link": true
    },
    "kernelspec": {
      "name": "python3",
      "display_name": "Python 3"
    },
    "language_info": {
      "name": "python"
    }
  },
  "cells": [
    {
      "cell_type": "markdown",
      "metadata": {
        "id": "view-in-github",
        "colab_type": "text"
      },
      "source": [
        "<a href=\"https://colab.research.google.com/github/liudiepie/Leedcode_Practice/blob/main/leetcode015.ipynb\" target=\"_parent\"><img src=\"https://colab.research.google.com/assets/colab-badge.svg\" alt=\"Open In Colab\"/></a>"
      ]
    },
    {
      "cell_type": "markdown",
      "metadata": {
        "id": "w3ShkPDHJM4Q"
      },
      "source": [
        "# Maximum Depth of Binary Tree"
      ]
    },
    {
      "cell_type": "code",
      "metadata": {
        "id": "yyTY04n7JTl6"
      },
      "source": [
        "#Definition for a binary tree node\n",
        "class TreeNode:\n",
        "  def __init__(self, x):\n",
        "    self.val = x\n",
        "    self.left = None\n",
        "    self.right = None\n"
      ],
      "execution_count": null,
      "outputs": []
    },
    {
      "cell_type": "code",
      "metadata": {
        "id": "KVAKgsbZJkEY"
      },
      "source": [
        "class Solution:\n",
        "  def maxDepth(self, root):\n",
        "    \"\"\"\n",
        "    :type root: TreeNode\n",
        "    :rtype: int\n",
        "    \"\"\"\n",
        "\n",
        "    if root is None:\n",
        "      return 0\n",
        "    else:\n",
        "      return max(self.maxDepth(root.left), self.maxDepth(root.right)) + 1\n",
        "#Runtime: 52ms"
      ],
      "execution_count": null,
      "outputs": []
    }
  ]
}