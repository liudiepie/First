{
  "nbformat": 4,
  "nbformat_minor": 0,
  "metadata": {
    "colab": {
      "name": "leedcode010.ipynb",
      "provenance": [],
      "authorship_tag": "ABX9TyP92rRFcIhS4JQSty58HlWI",
      "include_colab_link": true
    },
    "kernelspec": {
      "name": "python3",
      "display_name": "Python 3"
    },
    "language_info": {
      "name": "python"
    }
  },
  "cells": [
    {
      "cell_type": "markdown",
      "metadata": {
        "id": "view-in-github",
        "colab_type": "text"
      },
      "source": [
        "<a href=\"https://colab.research.google.com/github/liudiepie/Leedcode_Practice/blob/main/leedcode010.ipynb\" target=\"_parent\"><img src=\"https://colab.research.google.com/assets/colab-badge.svg\" alt=\"Open In Colab\"/></a>"
      ]
    },
    {
      "cell_type": "markdown",
      "metadata": {
        "id": "PsGZyXJiRgau"
      },
      "source": [
        "# Permutations"
      ]
    },
    {
      "cell_type": "code",
      "metadata": {
        "id": "Q5qoj5J3RmVZ"
      },
      "source": [
        "class Solution:\n",
        "  def permute(self, nums):\n",
        "    \"\"\"\n",
        "    :type nums: List[int]\n",
        "    :rtype: List[List[int]]\n",
        "    \"\"\"\n",
        "\n",
        "    if len(nums) <= 1:\n",
        "      return [nums]\n",
        "\n",
        "    answer = []\n",
        "    for i, num in enumerate(nums):\n",
        "      n = nums[:i] + nums[i+1:]\n",
        "      for y in self.permute(n):\n",
        "        answer.append([num] + y)\n",
        "    return answer\n",
        "\n",
        "#Runtime: 52ms"
      ],
      "execution_count": null,
      "outputs": []
    }
  ]
}