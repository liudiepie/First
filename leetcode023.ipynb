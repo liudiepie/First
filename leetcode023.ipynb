{
  "nbformat": 4,
  "nbformat_minor": 0,
  "metadata": {
    "colab": {
      "name": "leetcode023.ipynb",
      "provenance": [],
      "authorship_tag": "ABX9TyPjXESKCCWYjZ8NJ4aMFBq1",
      "include_colab_link": true
    },
    "kernelspec": {
      "name": "python3",
      "display_name": "Python 3"
    },
    "language_info": {
      "name": "python"
    }
  },
  "cells": [
    {
      "cell_type": "markdown",
      "metadata": {
        "id": "view-in-github",
        "colab_type": "text"
      },
      "source": [
        "<a href=\"https://colab.research.google.com/github/liudiepie/Leetcode_Practice/blob/main/leetcode023.ipynb\" target=\"_parent\"><img src=\"https://colab.research.google.com/assets/colab-badge.svg\" alt=\"Open In Colab\"/></a>"
      ]
    },
    {
      "cell_type": "markdown",
      "metadata": {
        "id": "mmXZywVJSOJF"
      },
      "source": [
        "# Invert Binary Tree"
      ]
    },
    {
      "cell_type": "code",
      "metadata": {
        "id": "DBwfmN8vSSBe"
      },
      "source": [
        "# Definition for a binary tree\n",
        "class TreeNode:\n",
        "  def __init__(self, x):\n",
        "    self.val = x\n",
        "    self.left = None\n",
        "    self.right = None"
      ],
      "execution_count": null,
      "outputs": []
    },
    {
      "cell_type": "code",
      "metadata": {
        "id": "FMuh7BLyShDB"
      },
      "source": [
        "class Solution:\n",
        "  def inverTree(self. root: 'TreeNode') -> 'TreeNode':\n",
        "    # top - down, bottom - up\n",
        "    if root is not None:\n",
        "      root.left, root.right = self.invertTree(root.right), self.invertTree(root.left)\n",
        "    return root\n",
        "#Runtime: 44ms, Memory Usage: 12.5MB"
      ],
      "execution_count": null,
      "outputs": []
    }
  ]
}