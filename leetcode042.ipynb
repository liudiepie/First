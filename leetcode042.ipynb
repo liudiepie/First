{
  "nbformat": 4,
  "nbformat_minor": 0,
  "metadata": {
    "colab": {
      "name": "leetcode042.ipynb",
      "provenance": [],
      "authorship_tag": "ABX9TyMJfZU3/W43KIJ5Wiiop6e7",
      "include_colab_link": true
    },
    "kernelspec": {
      "name": "python3",
      "display_name": "Python 3"
    },
    "language_info": {
      "name": "python"
    }
  },
  "cells": [
    {
      "cell_type": "markdown",
      "metadata": {
        "id": "view-in-github",
        "colab_type": "text"
      },
      "source": [
        "<a href=\"https://colab.research.google.com/github/liudiepie/Leetcode_Practice/blob/main/leetcode042.ipynb\" target=\"_parent\"><img src=\"https://colab.research.google.com/assets/colab-badge.svg\" alt=\"Open In Colab\"/></a>"
      ]
    },
    {
      "cell_type": "markdown",
      "metadata": {
        "id": "BEG5-8ze7Qu_"
      },
      "source": [
        "# Flatten Binary Tree to Linked List"
      ]
    },
    {
      "cell_type": "code",
      "metadata": {
        "id": "xdYT9ems7VT6"
      },
      "source": [
        "# Definition for a binary tree node\n",
        "class TreeNode:\n",
        "  def __init__(self, val=0, left = None, right = None):\n",
        "    self.val = val\n",
        "    self.left = left\n",
        "    self.right = right"
      ],
      "execution_count": null,
      "outputs": []
    },
    {
      "cell_type": "code",
      "metadata": {
        "id": "XddN1z2p7v4-"
      },
      "source": [
        "class Solution:\n",
        "  def flatten(self, root:TreeNode) -> None:\n",
        "    \"\"\"\n",
        "    Do not return anything, modify root in-place instead\n",
        "    \"\"\"\n",
        "    self.flatten_and_return(root)\n",
        "\n",
        "  def flatten_and_return(self, root):\n",
        "    if root is None:\n",
        "      return None\n",
        "\n",
        "    left_last = self.flatten_and_return(root.left)\n",
        "    right_last = self.flatten_and_return(root.right)\n",
        "\n",
        "    if left_last is not None:\n",
        "      left_last.right = root.right\n",
        "      root.right = root.left\n",
        "      root.left = None\n",
        "\n",
        "    return right_last or left_last or root"
      ],
      "execution_count": null,
      "outputs": []
    }
  ]
}