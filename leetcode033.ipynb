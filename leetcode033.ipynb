{
  "nbformat": 4,
  "nbformat_minor": 0,
  "metadata": {
    "colab": {
      "name": "leetcode033.ipynb",
      "provenance": [],
      "authorship_tag": "ABX9TyNGz6O0AhUq4F2p7FGEpRRk",
      "include_colab_link": true
    },
    "kernelspec": {
      "name": "python3",
      "display_name": "Python 3"
    },
    "language_info": {
      "name": "python"
    }
  },
  "cells": [
    {
      "cell_type": "markdown",
      "metadata": {
        "id": "view-in-github",
        "colab_type": "text"
      },
      "source": [
        "<a href=\"https://colab.research.google.com/github/liudiepie/Leetcode_Practice/blob/main/leetcode033.ipynb\" target=\"_parent\"><img src=\"https://colab.research.google.com/assets/colab-badge.svg\" alt=\"Open In Colab\"/></a>"
      ]
    },
    {
      "cell_type": "markdown",
      "metadata": {
        "id": "pcssTak-ZKdK"
      },
      "source": [
        "# Group Anagrams"
      ]
    },
    {
      "cell_type": "code",
      "metadata": {
        "id": "BxFklOGHZNUi"
      },
      "source": [
        "class Solution:\n",
        "  def groupAnagrams(self, strs: List[str]) -> List[List[str]]:\n",
        "    solution = {}\n",
        "    if len(strs) < 1:\n",
        "      return strs\n",
        "    else:\n",
        "      for i in range(len(strs)):\n",
        "        reg = strs[i]\n",
        "        regsort = \"\".join(sorted(reg))\n",
        "        if regsort in solution:\n",
        "          solution[regsort].append(reg)\n",
        "        else:\n",
        "          solution[regsort] = [reg]\n",
        "\n",
        "    return solution.values()\n",
        "#Runtime: 100ms, Memory Usage: 15.8MB"
      ],
      "execution_count": null,
      "outputs": []
    }
  ]
}