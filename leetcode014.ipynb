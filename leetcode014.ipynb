{
  "nbformat": 4,
  "nbformat_minor": 0,
  "metadata": {
    "colab": {
      "name": "leetcode014.ipynb",
      "provenance": [],
      "authorship_tag": "ABX9TyMEBYasRurb1NelIWKbxB73",
      "include_colab_link": true
    },
    "kernelspec": {
      "name": "python3",
      "display_name": "Python 3"
    },
    "language_info": {
      "name": "python"
    }
  },
  "cells": [
    {
      "cell_type": "markdown",
      "metadata": {
        "id": "view-in-github",
        "colab_type": "text"
      },
      "source": [
        "<a href=\"https://colab.research.google.com/github/liudiepie/Leedcode_Practice/blob/main/leetcode014.ipynb\" target=\"_parent\"><img src=\"https://colab.research.google.com/assets/colab-badge.svg\" alt=\"Open In Colab\"/></a>"
      ]
    },
    {
      "cell_type": "markdown",
      "metadata": {
        "id": "sCpWPOldGSEu"
      },
      "source": [
        "# Symmetric Tree"
      ]
    },
    {
      "cell_type": "code",
      "metadata": {
        "id": "ueROQdhUGXPq"
      },
      "source": [
        "#Definition for a binary tree node\n",
        "#class TreeNode:\n",
        "#  def __init__(self, x):\n",
        "#    self.val = x\n",
        "#    self.left = None\n",
        "#    self.right = None"
      ],
      "execution_count": null,
      "outputs": []
    },
    {
      "cell_type": "code",
      "metadata": {
        "id": "B76pp9xgGsyA"
      },
      "source": [
        "class Solution:\n",
        "  def isSymmetric(self, root):\n",
        "    \"\"\"\n",
        "    :type root: TreeNode\n",
        "    :rtype: bool\n",
        "    \"\"\"\n",
        "\n",
        "    if root is None:\n",
        "      return True\n",
        "\n",
        "    return self.isSymmertricRecu(root.left, root.right)\n",
        "\n",
        "  def isSymmetric(self, left, right):\n",
        "    if left is None and right is None:\n",
        "      return True\n",
        "    if left is None or right is None or left.val != right.val:\n",
        "      return False\n",
        "    return self.isSymmetricRecu(left.left, right.right) and self.isSymmetricRecu(left.right, right.left)\n",
        "\n",
        "#Runtime: 44ms"
      ],
      "execution_count": null,
      "outputs": []
    }
  ]
}