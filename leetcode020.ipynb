{
  "nbformat": 4,
  "nbformat_minor": 0,
  "metadata": {
    "colab": {
      "name": "leetcode020.ipynb",
      "provenance": [],
      "authorship_tag": "ABX9TyOTTi92TdyCCeXFmTdq/+cv",
      "include_colab_link": true
    },
    "kernelspec": {
      "name": "python3",
      "display_name": "Python 3"
    },
    "language_info": {
      "name": "python"
    }
  },
  "cells": [
    {
      "cell_type": "markdown",
      "metadata": {
        "id": "view-in-github",
        "colab_type": "text"
      },
      "source": [
        "<a href=\"https://colab.research.google.com/github/liudiepie/Leetcode_Practice/blob/main/leetcode020.ipynb\" target=\"_parent\"><img src=\"https://colab.research.google.com/assets/colab-badge.svg\" alt=\"Open In Colab\"/></a>"
      ]
    },
    {
      "cell_type": "markdown",
      "metadata": {
        "id": "0rhy8AFZ1EJ_"
      },
      "source": [
        "# Majority Element"
      ]
    },
    {
      "cell_type": "code",
      "metadata": {
        "id": "8bpGjirg1Hbo"
      },
      "source": [
        "class Solution(object):\n",
        "  def majorElement(self, nums):\n",
        "    \"\"\"\n",
        "    :type nums: List[int]\n",
        "    :rtype: int\n",
        "    \"\"\"\n",
        "\n",
        "    index, cnt = 0, 1\n",
        "    for i in range(1, len(nums)):\n",
        "      if nums[index] == nums[i]:\n",
        "        cnt += 1\n",
        "      else:\n",
        "        cnt -= 1\n",
        "        if cnt == 0:\n",
        "          index = i\n",
        "          cnt = 1\n",
        "    return nums[index]\n",
        "#Runtime: 52ms"
      ],
      "execution_count": null,
      "outputs": []
    },
    {
      "cell_type": "code",
      "metadata": {
        "id": "FWPPaW-E620A"
      },
      "source": [
        "class Solution(object):\n",
        "  def majorElement(self, nums):\n",
        "    \"\"\"\n",
        "    :type nums: List[int]\n",
        "    :rtype: int\n",
        "    \"\"\"\n",
        "    return sorted(nums)[len(nums)/2]\n",
        "#Runtime: "
      ],
      "execution_count": null,
      "outputs": []
    },
    {
      "cell_type": "code",
      "metadata": {
        "id": "oOqZyg4l7SHL"
      },
      "source": [
        "class Solution(object):\n",
        "  def majorityElement(self, nums: List[int]) -> int:\n",
        "        check = {}\n",
        "        \n",
        "        for number in nums:\n",
        "            if number in check:\n",
        "                check[number] += 1\n",
        "            else:\n",
        "                check[number] = 1\n",
        "                \n",
        "        for key in check:\n",
        "            if check[key] > len(nums) / 2:\n",
        "                return key\n",
        "            \n",
        "        return None\n",
        "#Runtime: 52ms"
      ],
      "execution_count": null,
      "outputs": []
    }
  ]
}