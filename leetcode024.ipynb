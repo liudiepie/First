{
  "nbformat": 4,
  "nbformat_minor": 0,
  "metadata": {
    "colab": {
      "name": "leetcode024.ipynb",
      "provenance": [],
      "authorship_tag": "ABX9TyP50U+hlGaqXgjQTmN/QJ9B",
      "include_colab_link": true
    },
    "kernelspec": {
      "name": "python3",
      "display_name": "Python 3"
    },
    "language_info": {
      "name": "python"
    }
  },
  "cells": [
    {
      "cell_type": "markdown",
      "metadata": {
        "id": "view-in-github",
        "colab_type": "text"
      },
      "source": [
        "<a href=\"https://colab.research.google.com/github/liudiepie/Leetcode_Practice/blob/main/leetcode024.ipynb\" target=\"_parent\"><img src=\"https://colab.research.google.com/assets/colab-badge.svg\" alt=\"Open In Colab\"/></a>"
      ]
    },
    {
      "cell_type": "markdown",
      "metadata": {
        "id": "K00nXtbMdPiK"
      },
      "source": [
        "# Palindrome Linked List"
      ]
    },
    {
      "cell_type": "code",
      "metadata": {
        "id": "xgjs28IddTY0"
      },
      "source": [
        "# Definition for singly-linked list\n",
        "class ListNode:\n",
        "  def __init__(self, x):\n",
        "    self.val = x\n",
        "    self.next = None"
      ],
      "execution_count": null,
      "outputs": []
    },
    {
      "cell_type": "code",
      "metadata": {
        "id": "sL3qaq8qdgVQ"
      },
      "source": [
        "class Solution:\n",
        "  def isPalidrome(self, head: ListNode) -> bool:\n",
        "    fast = slow = ListNode(0)\n",
        "    fast = slow = head\n",
        "    stack = []\n",
        "\n",
        "    while fast and fast.next:\n",
        "      stack.append(slow.val)\n",
        "      slow = slow.next\n",
        "      fast = fast.next.next\n",
        "    \n",
        "    if fast:\n",
        "      slow = slow.next\n",
        "\n",
        "    while slow:\n",
        "      top = stack.pop()\n",
        "\n",
        "      if top != slow.val:\n",
        "        return False\n",
        "      slow = slow.next\n",
        "    return True\n",
        "#Runtime: 80ms, Memory Usage: 23.8MB, time = O(n), space = O(n/2)"
      ],
      "execution_count": null,
      "outputs": []
    },
    {
      "cell_type": "code",
      "metadata": {
        "id": "Hw1GF0TvlbpC"
      },
      "source": [
        "class Solution:\n",
        "  def isPalindrome(self, head: ListNode) -> bool:\n",
        "\n",
        "    stack = []\n",
        "    while head:\n",
        "      stack.append(head.val)\n",
        "      head = head.next\n",
        "    return stack == stack[::-1]"
      ],
      "execution_count": null,
      "outputs": []
    }
  ]
}