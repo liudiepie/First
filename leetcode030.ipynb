{
  "nbformat": 4,
  "nbformat_minor": 0,
  "metadata": {
    "colab": {
      "name": "leetcode030.ipynb",
      "provenance": [],
      "authorship_tag": "ABX9TyNTrzZcBRNdhx92xp/izIzX",
      "include_colab_link": true
    },
    "kernelspec": {
      "name": "python3",
      "display_name": "Python 3"
    },
    "language_info": {
      "name": "python"
    }
  },
  "cells": [
    {
      "cell_type": "markdown",
      "metadata": {
        "id": "view-in-github",
        "colab_type": "text"
      },
      "source": [
        "<a href=\"https://colab.research.google.com/github/liudiepie/Leetcode_Practice/blob/main/leetcode030.ipynb\" target=\"_parent\"><img src=\"https://colab.research.google.com/assets/colab-badge.svg\" alt=\"Open In Colab\"/></a>"
      ]
    },
    {
      "cell_type": "markdown",
      "metadata": {
        "id": "juph4mYTZXM1"
      },
      "source": [
        "# Swap Nodes in Pairs"
      ]
    },
    {
      "cell_type": "code",
      "metadata": {
        "id": "1CQ_n3RGZbB5"
      },
      "source": [
        "# Definition for singly-linked list\n",
        "class ListNode:\n",
        "  def __init__(self, x):\n",
        "    self.val = x\n",
        "    self.next = None"
      ],
      "execution_count": null,
      "outputs": []
    },
    {
      "cell_type": "code",
      "metadata": {
        "id": "uXIqxeYZZsg1"
      },
      "source": [
        "class Solution:\n",
        "  def swapPairs(self, head: ListNode) -> ListNode:\n",
        "    if not head or not head.next:\n",
        "      return head\n",
        "    \n",
        "    p = head\n",
        "    new_start = p.next\n",
        "\n",
        "    while(True):\n",
        "      q = p.next\n",
        "      temp = q.next\n",
        "\n",
        "      q.next = p\n",
        "\n",
        "      if not temp or not temp.next:\n",
        "        p.next = temp\n",
        "        break\n",
        "      p.next = temp.next\n",
        "      p = temp\n",
        "\n",
        "    return new_start\n",
        "#Runtime: 24ms, Memory Usage: 12.7MB"
      ],
      "execution_count": null,
      "outputs": []
    }
  ]
}