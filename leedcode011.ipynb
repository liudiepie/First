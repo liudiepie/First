{
  "nbformat": 4,
  "nbformat_minor": 0,
  "metadata": {
    "colab": {
      "name": "leedcode011.ipynb",
      "provenance": [],
      "authorship_tag": "ABX9TyOKbeDrQ8YTOti8+bWxoKr2",
      "include_colab_link": true
    },
    "kernelspec": {
      "name": "python3",
      "display_name": "Python 3"
    },
    "language_info": {
      "name": "python"
    }
  },
  "cells": [
    {
      "cell_type": "markdown",
      "metadata": {
        "id": "view-in-github",
        "colab_type": "text"
      },
      "source": [
        "<a href=\"https://colab.research.google.com/github/liudiepie/Leedcode_Practice/blob/main/leedcode011.ipynb\" target=\"_parent\"><img src=\"https://colab.research.google.com/assets/colab-badge.svg\" alt=\"Open In Colab\"/></a>"
      ]
    },
    {
      "cell_type": "markdown",
      "metadata": {
        "id": "Pi3YhQPNhsrM"
      },
      "source": [
        "# Maximum Subarray"
      ]
    },
    {
      "cell_type": "code",
      "metadata": {
        "id": "B7nGt3e5hyX0"
      },
      "source": [
        "class Solution:\n",
        "  def maxSubArray(self, nums):\n",
        "    \"\"\"\n",
        "    :type nums: List[int]\n",
        "    :rtype: int\n",
        "    \"\"\"\n",
        "    if max(nums) < 0:\n",
        "      return max(nums)\n",
        "    \n",
        "    local_max, global_max = 0, 0\n",
        "\n",
        "    for num in nums:\n",
        "      local_max = max(0, local_max + num)\n",
        "      global_max = max(global_max, local_max)\n",
        "    return global_max\n",
        "#Runtime: 48ms"
      ],
      "execution_count": null,
      "outputs": []
    }
  ]
}