{
  "nbformat": 4,
  "nbformat_minor": 0,
  "metadata": {
    "colab": {
      "name": "leetcode022.ipynb",
      "provenance": [],
      "authorship_tag": "ABX9TyM56XpgXCFPqwGa0DS3a1VQ",
      "include_colab_link": true
    },
    "kernelspec": {
      "name": "python3",
      "display_name": "Python 3"
    },
    "language_info": {
      "name": "python"
    }
  },
  "cells": [
    {
      "cell_type": "markdown",
      "metadata": {
        "id": "view-in-github",
        "colab_type": "text"
      },
      "source": [
        "<a href=\"https://colab.research.google.com/github/liudiepie/Leetcode_Practice/blob/main/leetcode022.ipynb\" target=\"_parent\"><img src=\"https://colab.research.google.com/assets/colab-badge.svg\" alt=\"Open In Colab\"/></a>"
      ]
    },
    {
      "cell_type": "markdown",
      "metadata": {
        "id": "cdMV151iKhFn"
      },
      "source": [
        "# Reverse Linked List"
      ]
    },
    {
      "cell_type": "code",
      "metadata": {
        "id": "15kSlSNmKlnO"
      },
      "source": [
        "# Definition for singly-linked list\n",
        "class ListNode:\n",
        "  def __init__(self, x):\n",
        "    self.val = x\n",
        "    self.next = None"
      ],
      "execution_count": null,
      "outputs": []
    },
    {
      "cell_type": "code",
      "metadata": {
        "id": "kvJlB14aK9TX"
      },
      "source": [
        "class Solution:\n",
        "  def reverseList(self, head: 'ListNode') -> 'ListNode':\n",
        "    # create dummy, dummy.next = None\n",
        "    # starting from node.val = 1\n",
        "    # dummy.next, head.next, head = head, dummy.next, head.next\n",
        "    # dummy -> 1 -> None\n",
        "    # iteration head = 2, dummy.next = 1\n",
        "    dummy = ListNode(float(\"-inf\"))\n",
        "    while head:\n",
        "      dummy.next, head.next, head = head, dummy.next, head.next\n",
        "    return dummy.next\n",
        "#Runtime: 40ms, Memory Usage: 7.9MB"
      ],
      "execution_count": null,
      "outputs": []
    }
  ]
}