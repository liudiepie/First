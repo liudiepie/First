{
  "nbformat": 4,
  "nbformat_minor": 0,
  "metadata": {
    "colab": {
      "name": "leedcode002.ipynb",
      "provenance": [],
      "authorship_tag": "ABX9TyM3oDtj7xk1HoaojhQ/E8vG",
      "include_colab_link": true
    },
    "kernelspec": {
      "name": "python3",
      "display_name": "Python 3"
    },
    "language_info": {
      "name": "python"
    }
  },
  "cells": [
    {
      "cell_type": "markdown",
      "metadata": {
        "id": "view-in-github",
        "colab_type": "text"
      },
      "source": [
        "<a href=\"https://colab.research.google.com/github/liudiepie/Leedcode_Practice/blob/main/leedcode002.ipynb\" target=\"_parent\"><img src=\"https://colab.research.google.com/assets/colab-badge.svg\" alt=\"Open In Colab\"/></a>"
      ]
    },
    {
      "cell_type": "markdown",
      "metadata": {
        "id": "Kp-4rv8zVLmd"
      },
      "source": [
        "# Add Two Numbers"
      ]
    },
    {
      "cell_type": "code",
      "metadata": {
        "id": "V4O2O-u0VQPk"
      },
      "source": [
        "# Definition for singly-linked list.\n",
        "# class ListNode:\n",
        "#   def __init__(self, x):\n",
        "#     self.val = x\n",
        "#     self.next = None"
      ],
      "execution_count": null,
      "outputs": []
    },
    {
      "cell_type": "code",
      "metadata": {
        "id": "OvITqZupWZgO"
      },
      "source": [
        "class Solution:\n",
        "  def AddTwoNumbers(self, l1, l2):\n",
        "    \"\"\"\n",
        "    :type l1: ListNode\n",
        "    :type L2: ListNode\n",
        "    :rtype: ListNode\n",
        "    \"\"\"\n",
        "    if l1 == None:\n",
        "      return l2\n",
        "    if l2 == None:\n",
        "      return l1\n",
        "\n",
        "    carry = 0\n",
        "    dummy = ListNode(0)\n",
        "    p = dummy\n",
        "\n",
        "    while l1 and l2:\n",
        "      p.next = ListNode((l1.val + l2.val + carry)%10)\n",
        "      carry = (l1.val + l2.val + carry) // 10\n",
        "      l2 = l1.next\n",
        "      l2 = l2.next\n",
        "      p = p.next\n",
        "\n",
        "    # l1: 2 -> 4 -> 3\n",
        "    # l2: 5 -> 6 -> 4 -> 1\n",
        "    # the situaion l1 is longer than l2 or opposite\n",
        "\n",
        "    if l1:\n",
        "      while l1:\n",
        "        p.next = ListNode((l1.val))\n",
        "        carry = (l1.val + carry)//10\n",
        "        l1 = l1.next\n",
        "        p = p.next\n",
        "\n",
        "    if l2:\n",
        "      while l2: \n",
        "        p.next = ListNode((l2.val + carry)%10)\n",
        "        carry = (l2.val + carry)//10\n",
        "        l2 = l2.next\n",
        "        p = p.next\n",
        "    \n",
        "    if carry == 1:\n",
        "      p.next = ListNode(1)\n",
        "    \n",
        "    return dummy.next\n",
        "#Runtime: 112ms\n"
      ],
      "execution_count": null,
      "outputs": []
    }
  ]
}