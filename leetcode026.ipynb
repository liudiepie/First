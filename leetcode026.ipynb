{
  "nbformat": 4,
  "nbformat_minor": 0,
  "metadata": {
    "colab": {
      "name": "leetcode026.ipynb",
      "provenance": [],
      "authorship_tag": "ABX9TyPwP05q137ulrE9WFNp6S0G",
      "include_colab_link": true
    },
    "kernelspec": {
      "name": "python3",
      "display_name": "Python 3"
    },
    "language_info": {
      "name": "python"
    }
  },
  "cells": [
    {
      "cell_type": "markdown",
      "metadata": {
        "id": "view-in-github",
        "colab_type": "text"
      },
      "source": [
        "<a href=\"https://colab.research.google.com/github/liudiepie/Leetcode_Practice/blob/main/leetcode026.ipynb\" target=\"_parent\"><img src=\"https://colab.research.google.com/assets/colab-badge.svg\" alt=\"Open In Colab\"/></a>"
      ]
    },
    {
      "cell_type": "markdown",
      "metadata": {
        "id": "8ujVNm4Rxaar"
      },
      "source": [
        "# Queue Reconstruciton by Height"
      ]
    },
    {
      "cell_type": "code",
      "metadata": {
        "id": "Hzy2v7D5xfSR"
      },
      "source": [
        "class Solution:\n",
        "  def reconstructQueue(self, people: List[List[int]]) -> List[List[int]]:\n",
        "    # result = []\n",
        "    # [[7,0], [7,1], [6,1], [5,0], [5,2], [4,4]] sorted\n",
        "    # iteration 1: result = [[7,0], [7,1]]\n",
        "    # iteration 2: result = [[7,0], [6,1], [7,1]]\n",
        "    # iteration 3: result = [[5,0], [7,0], [5,2], [6,1], [7,1]]\n",
        "    # iteration 4: result = [[5,0], [7,0], [5,2], [6,1], [4,4], [7,1]]\n",
        "\n",
        "    people_dict = {}\n",
        "    for p in people:\n",
        "      h, k = p[0], p[1]\n",
        "      people_dict.setdefault(h, [])\n",
        "      people_dict[h].append(k)\n",
        "\n",
        "    result = []\n",
        "\n",
        "    for h in sorted(people_dict.keys(), reverse = True):\n",
        "      people_dict[h].sort()\n",
        "      for k in people_dict[h]:\n",
        "        result.insert(k, [h,k])\n",
        "    return result\n",
        "    \n",
        "#Runtime: 112ms, Memory Usage: 14MB\n",
        "#Time Complexity = O(n^2)\n",
        "#Space Complexity = O(n)"
      ],
      "execution_count": null,
      "outputs": []
    }
  ]
}