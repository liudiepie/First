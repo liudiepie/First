{
  "nbformat": 4,
  "nbformat_minor": 0,
  "metadata": {
    "colab": {
      "name": "leetcode029.ipynb",
      "provenance": [],
      "authorship_tag": "ABX9TyN8McMe/4QB1xmBPP8JkoKP",
      "include_colab_link": true
    },
    "kernelspec": {
      "name": "python3",
      "display_name": "Python 3"
    },
    "language_info": {
      "name": "python"
    }
  },
  "cells": [
    {
      "cell_type": "markdown",
      "metadata": {
        "id": "view-in-github",
        "colab_type": "text"
      },
      "source": [
        "<a href=\"https://colab.research.google.com/github/liudiepie/Leetcode_Practice/blob/main/leetcode029.ipynb\" target=\"_parent\"><img src=\"https://colab.research.google.com/assets/colab-badge.svg\" alt=\"Open In Colab\"/></a>"
      ]
    },
    {
      "cell_type": "markdown",
      "metadata": {
        "id": "2ggKbmjCMzKU"
      },
      "source": [
        "# Search in Rotated Sorted Array"
      ]
    },
    {
      "cell_type": "code",
      "metadata": {
        "id": "Mw6tZ_JGM3ZC"
      },
      "source": [
        "class Solution:\n",
        "  def search(self, nums: List[int], target: int) -> int:\n",
        "    left, right = 0, len(nums) - 1\n",
        "    while left <= right:\n",
        "      mid = (left + right) // 2 # output will be integer\n",
        "\n",
        "      if nums[mid] == target:\n",
        "        return mid\n",
        "\n",
        "      if target >= nums[0]:\n",
        "        if nums[mid] >= nums[0] and target > nums[mid]:\n",
        "          left = mid + 1 # focus on the right side\n",
        "        else:\n",
        "          right = mid - 1 # focus on the left side\n",
        "      else:\n",
        "        if nums[mid] >= nums[0] or target > nums[mid]:\n",
        "          left = mid + 1 # focus on the right side\n",
        "        else:\n",
        "          right = mid -1 # focus on the left side\n",
        "    return -1\n",
        "#Runtime: 32ms, Memory Usage: 12MB, Time Complexity: O(log n)"
      ],
      "execution_count": null,
      "outputs": []
    }
  ]
}