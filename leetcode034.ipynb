{
  "nbformat": 4,
  "nbformat_minor": 0,
  "metadata": {
    "colab": {
      "name": "leetcode034.ipynb",
      "provenance": [],
      "authorship_tag": "ABX9TyMQqGo3WEu3Sb+wwHd8RCtU",
      "include_colab_link": true
    },
    "kernelspec": {
      "name": "python3",
      "display_name": "Python 3"
    },
    "language_info": {
      "name": "python"
    }
  },
  "cells": [
    {
      "cell_type": "markdown",
      "metadata": {
        "id": "view-in-github",
        "colab_type": "text"
      },
      "source": [
        "<a href=\"https://colab.research.google.com/github/liudiepie/Leetcode_Practice/blob/main/leetcode034.ipynb\" target=\"_parent\"><img src=\"https://colab.research.google.com/assets/colab-badge.svg\" alt=\"Open In Colab\"/></a>"
      ]
    },
    {
      "cell_type": "markdown",
      "metadata": {
        "id": "dt6lfgJmmVKl"
      },
      "source": [
        "# Merge Intervals"
      ]
    },
    {
      "cell_type": "code",
      "metadata": {
        "id": "Z7cGwpzDmaJ1"
      },
      "source": [
        "class Solution:\n",
        "  def merge(self, intervals: List[List[int]]) -> List[List[int]]:\n",
        "    result = []\n",
        "    intervals.sort(key = lambda x: x[0])\n",
        "\n",
        "    i = 0\n",
        "    while i < len(intervals):\n",
        "      cur_start = intervals[i][0]\n",
        "      cur_end = intervals[i][1]\n",
        "      if result:\n",
        "        prev_start, prev_end = result[-1]\n",
        "        high = min(prev_end, cur_end)\n",
        "        low = max(prev_start, cur_start)\n",
        "\n",
        "        if low <= high:\n",
        "          if cur_end > prev_end:\n",
        "            result[-1][1] = cur_end\n",
        "        else:\n",
        "          result.append(intervals[i])\n",
        "      else:\n",
        "        result.append(intervals[i])\n",
        "      i += 1\n",
        "    return result\n",
        "#Runtime: 96ms, Memory Usage: 14.4MB"
      ],
      "execution_count": null,
      "outputs": []
    }
  ]
}