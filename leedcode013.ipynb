{
  "nbformat": 4,
  "nbformat_minor": 0,
  "metadata": {
    "colab": {
      "name": "leedcode013.ipynb",
      "provenance": [],
      "authorship_tag": "ABX9TyN7p6QF3SS/OhoVjdY33VQu",
      "include_colab_link": true
    },
    "kernelspec": {
      "name": "python3",
      "display_name": "Python 3"
    },
    "language_info": {
      "name": "python"
    }
  },
  "cells": [
    {
      "cell_type": "markdown",
      "metadata": {
        "id": "view-in-github",
        "colab_type": "text"
      },
      "source": [
        "<a href=\"https://colab.research.google.com/github/liudiepie/Leedcode_Practice/blob/main/leedcode013.ipynb\" target=\"_parent\"><img src=\"https://colab.research.google.com/assets/colab-badge.svg\" alt=\"Open In Colab\"/></a>"
      ]
    },
    {
      "cell_type": "markdown",
      "metadata": {
        "id": "8YMNX1Jl0Xuy"
      },
      "source": [
        "# Validate Binary Search Tree"
      ]
    },
    {
      "cell_type": "code",
      "metadata": {
        "id": "oLFiq0z30dUn"
      },
      "source": [
        "#Definition for a binary tree node\n",
        "#class TreeNode:\n",
        "# def __init__(self, x):\n",
        "#   self.val = x\n",
        "#   self.left = None\n",
        "#   self.right = None\n",
        "\n",
        "class Solution:\n",
        "  def isValidBST(self, root):\n",
        "    \"\"\"\n",
        "    :type root: TreeNode\n",
        "    :rtype: bool \n",
        "    \"\"\"\n",
        "    return self.valid(root, float('-inf'), float('inf'))\n",
        "  def valid(self, root, min, max):\n",
        "    if not root:\n",
        "      return True\n",
        "    if root.val >= max or root.val <= min:\n",
        "      return False\n",
        "\n",
        "    return self.valid(root.left, min, root.val) and self.valid(root.right, root.val, max)\n",
        "\n",
        "#Runtime: 79ms"
      ],
      "execution_count": null,
      "outputs": []
    }
  ]
}