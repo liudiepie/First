{
  "nbformat": 4,
  "nbformat_minor": 0,
  "metadata": {
    "colab": {
      "name": "leedcode004.ipynb",
      "provenance": [],
      "authorship_tag": "ABX9TyMgf8kdv2cgZ5CXAeZfRjyc",
      "include_colab_link": true
    },
    "kernelspec": {
      "name": "python3",
      "display_name": "Python 3"
    },
    "language_info": {
      "name": "python"
    }
  },
  "cells": [
    {
      "cell_type": "markdown",
      "metadata": {
        "id": "view-in-github",
        "colab_type": "text"
      },
      "source": [
        "<a href=\"https://colab.research.google.com/github/liudiepie/Leedcode_Practice/blob/main/leedcode004.ipynb\" target=\"_parent\"><img src=\"https://colab.research.google.com/assets/colab-badge.svg\" alt=\"Open In Colab\"/></a>"
      ]
    },
    {
      "cell_type": "markdown",
      "metadata": {
        "id": "h8c6hT_dhrtk"
      },
      "source": [
        "# Longest Palindromic Substring"
      ]
    },
    {
      "cell_type": "code",
      "metadata": {
        "id": "N5msf1JNhzXx"
      },
      "source": [
        "class Solution:\n",
        "  def longestPalindrome(self, s: 'str') -> 'str':\n",
        "    palindrome = ''\n",
        "\n",
        "    for i in range(len(s)):\n",
        "      len1 = len(self.getlongestPalindrome(s, i, i))\n",
        "\n",
        "      if len1 > len(palindrome):\n",
        "        palindrome = self.getlongestPalindrome(s, i, i)\n",
        "\n",
        "      len2 = len(self.getlongestPalindrome(s, i, i+1))\n",
        "\n",
        "      if len2 > len(palindrome):\n",
        "        palindrome = self.getlongestPalindrome(s, i, i+1)\n",
        "\n",
        "    return palindrome\n",
        "\n",
        "  def getlongestPalindrome(self, s, l, r):\n",
        "    while l >= 0 and r < len(s) and s[l] == s[r]:\n",
        "      l -= 1\n",
        "      r += 1\n",
        "    return s[l+1 : r]\n",
        "\n",
        "#Runtime: 1188ms\n",
        "\n"
      ],
      "execution_count": null,
      "outputs": []
    }
  ]
}