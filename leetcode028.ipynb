{
  "nbformat": 4,
  "nbformat_minor": 0,
  "metadata": {
    "colab": {
      "name": "leetcode028.ipynb",
      "provenance": [],
      "authorship_tag": "ABX9TyNz/keBW6qS6lr3PR4cgcXF",
      "include_colab_link": true
    },
    "kernelspec": {
      "name": "python3",
      "display_name": "Python 3"
    },
    "language_info": {
      "name": "python"
    }
  },
  "cells": [
    {
      "cell_type": "markdown",
      "metadata": {
        "id": "view-in-github",
        "colab_type": "text"
      },
      "source": [
        "<a href=\"https://colab.research.google.com/github/liudiepie/Leetcode_Practice/blob/main/leetcode028.ipynb\" target=\"_parent\"><img src=\"https://colab.research.google.com/assets/colab-badge.svg\" alt=\"Open In Colab\"/></a>"
      ]
    },
    {
      "cell_type": "markdown",
      "metadata": {
        "id": "cK1PezC6EbnN"
      },
      "source": [
        "# Letter Combinations of a Phone Number"
      ]
    },
    {
      "cell_type": "code",
      "metadata": {
        "id": "9WqbXfSfEgSm"
      },
      "source": [
        "class Solution(object):\n",
        "  def letterCombination(self, digits):\n",
        "    \"\"\"\n",
        "    :type digits: str\n",
        "    :rtype: List[str]\n",
        "    \"\"\"\n",
        "    # 2 - a, b, c\n",
        "    # 3 - d, e, f\n",
        "    # ab, ac, de, ef - wrong\n",
        "\n",
        "    if len(digits) == 0:\n",
        "      return []\n",
        "    \n",
        "    digit_map = {\n",
        "      0: \"0\",\n",
        "      1: \"1\",\n",
        "      2: \"abc\",\n",
        "      3: \"def\",\n",
        "      4: \"ghi\",\n",
        "      5: \"jkl\",\n",
        "      6: \"mno\",\n",
        "      7: \"pqrs\",\n",
        "      8: \"tuv\",\n",
        "      9: \"wxyz\"\n",
        "    }\n",
        "\n",
        "    result = [\"\"]\n",
        "\n",
        "    # round 1 - read \"2\"\n",
        "    #  possible output: tmp_list = [\"a\", \"b\", \"c\"]\n",
        "    #  result = tmp_list\n",
        "    # rount 2 - read \"3\"\n",
        "    #  possible fetch ch: [\"d\", \"e\", \"f\"]\n",
        "    #  result + fetch match => output\n",
        "\n",
        "    for digit in digits:\n",
        "      tmp_list = []\n",
        "      for ch in digit_map[int(digit)]:\n",
        "        for str in result:\n",
        "          tmp_list.append(str)\n",
        "      result = tmp_list\n",
        "    return result\n",
        "#Runtime: 32ms"
      ],
      "execution_count": null,
      "outputs": []
    }
  ]
}