{
  "nbformat": 4,
  "nbformat_minor": 0,
  "metadata": {
    "colab": {
      "name": "leetcode032.ipynb",
      "provenance": [],
      "authorship_tag": "ABX9TyO6XjOZxoVIeye44gX9qqLL",
      "include_colab_link": true
    },
    "kernelspec": {
      "name": "python3",
      "display_name": "Python 3"
    },
    "language_info": {
      "name": "python"
    }
  },
  "cells": [
    {
      "cell_type": "markdown",
      "metadata": {
        "id": "view-in-github",
        "colab_type": "text"
      },
      "source": [
        "<a href=\"https://colab.research.google.com/github/liudiepie/Leetcode_Practice/blob/main/leetcode032.ipynb\" target=\"_parent\"><img src=\"https://colab.research.google.com/assets/colab-badge.svg\" alt=\"Open In Colab\"/></a>"
      ]
    },
    {
      "cell_type": "markdown",
      "metadata": {
        "id": "qGgAfsrMXRxE"
      },
      "source": [
        "# Rotate image"
      ]
    },
    {
      "cell_type": "code",
      "metadata": {
        "id": "lHHwPAH0XUde"
      },
      "source": [
        "class Solution:\n",
        "  def rotate(self, matrix: List[List[int]]) -> None:\n",
        "    \"\"\"\n",
        "    Do not return anything, modify matrix in-place instead.\n",
        "    \"\"\"\n",
        "\n",
        "    h = len(matrix)\n",
        "    n = h - 1\n",
        "\n",
        "    for i in range(h//2):\n",
        "      for j in range(i, n - i):\n",
        "        tmp = matrix[i][j]\n",
        "        matrix[i][j] = matrix[n-j][i]\n",
        "        matrix[n-j][i] = matrix[n-i][n-j]\n",
        "        matrix[n-i][n-j] = matrix[j][n-i]\n",
        "        matrix[j][n-i] = tmp\n",
        "#Runtime: 24ms, Memory Usage: 12MB"
      ],
      "execution_count": null,
      "outputs": []
    }
  ]
}