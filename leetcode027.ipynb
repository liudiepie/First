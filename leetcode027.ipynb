{
  "nbformat": 4,
  "nbformat_minor": 0,
  "metadata": {
    "colab": {
      "name": "leetcode027.ipynb",
      "provenance": [],
      "authorship_tag": "ABX9TyNCfHXhduM9+Ges/M3q0KSL",
      "include_colab_link": true
    },
    "kernelspec": {
      "name": "python3",
      "display_name": "Python 3"
    },
    "language_info": {
      "name": "python"
    }
  },
  "cells": [
    {
      "cell_type": "markdown",
      "metadata": {
        "id": "view-in-github",
        "colab_type": "text"
      },
      "source": [
        "<a href=\"https://colab.research.google.com/github/liudiepie/Leetcode_Practice/blob/main/leetcode027.ipynb\" target=\"_parent\"><img src=\"https://colab.research.google.com/assets/colab-badge.svg\" alt=\"Open In Colab\"/></a>"
      ]
    },
    {
      "cell_type": "markdown",
      "metadata": {
        "id": "5YVJTfdf8mPj"
      },
      "source": [
        "# Max Consecutive Ones"
      ]
    },
    {
      "cell_type": "code",
      "metadata": {
        "id": "UZG_brOB8qVR"
      },
      "source": [
        "class Solution:\n",
        "  def findMaxConsecutiveOnes(self, nums: List[int]) -> int:\n",
        "    count = 0\n",
        "    result = 0\n",
        "\n",
        "    for num in nums:\n",
        "      if num == 1:\n",
        "        count += 1\n",
        "      else: \n",
        "        result = max(result, count)\n",
        "        count = 0\n",
        "    return max(result, count)\n",
        "#Runtime: 376ms, Memory Usage: 12MB, Time Complexity: O(n)"
      ],
      "execution_count": null,
      "outputs": []
    }
  ]
}