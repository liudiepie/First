{
  "nbformat": 4,
  "nbformat_minor": 0,
  "metadata": {
    "colab": {
      "name": "leetcode018.ipynb",
      "provenance": [],
      "authorship_tag": "ABX9TyOoCZXK4eTVeBCPgTKCFXTp",
      "include_colab_link": true
    },
    "kernelspec": {
      "name": "python3",
      "display_name": "Python 3"
    },
    "language_info": {
      "name": "python"
    }
  },
  "cells": [
    {
      "cell_type": "markdown",
      "metadata": {
        "id": "view-in-github",
        "colab_type": "text"
      },
      "source": [
        "<a href=\"https://colab.research.google.com/github/liudiepie/Leetcode_Practice/blob/main/leetcode018.ipynb\" target=\"_parent\"><img src=\"https://colab.research.google.com/assets/colab-badge.svg\" alt=\"Open In Colab\"/></a>"
      ]
    },
    {
      "cell_type": "markdown",
      "metadata": {
        "id": "3XpkN-5Ek2UE"
      },
      "source": [
        "# Linked List Cycle"
      ]
    },
    {
      "cell_type": "code",
      "metadata": {
        "id": "2b3gAKu8k7Iu"
      },
      "source": [
        "# Definition for singly-linked list\n",
        "class ListNode(object):\n",
        "  def __init__(self, x):\n",
        "    self.val = x\n",
        "    self.next = None\n",
        "  "
      ],
      "execution_count": null,
      "outputs": []
    },
    {
      "cell_type": "code",
      "metadata": {
        "id": "YlXfX8islMm4"
      },
      "source": [
        "class Solution(object):\n",
        "  def hasCycle(self, head):\n",
        "    \"\"\"\n",
        "    :type head: ListNode\n",
        "    :rtype: bool\n",
        "    \"\"\"\n",
        "\n",
        "    fast, slow = head, head\n",
        "\n",
        "    while fast and fast.next:\n",
        "      fast, slow = fast.next.next, slow.next\n",
        "      if fast == slow:\n",
        "        return True\n",
        "    return False\n",
        "#Runtime: 44ms, O(1)"
      ],
      "execution_count": null,
      "outputs": []
    }
  ]
}