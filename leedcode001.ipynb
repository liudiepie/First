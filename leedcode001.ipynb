{
  "nbformat": 4,
  "nbformat_minor": 0,
  "metadata": {
    "colab": {
      "name": "leedcode001.ipynb",
      "provenance": [],
      "collapsed_sections": [],
      "authorship_tag": "ABX9TyPc3ggcHYRycBa4u7RIeQyQ",
      "include_colab_link": true
    },
    "kernelspec": {
      "name": "python3",
      "display_name": "Python 3"
    },
    "language_info": {
      "name": "python"
    }
  },
  "cells": [
    {
      "cell_type": "markdown",
      "metadata": {
        "id": "view-in-github",
        "colab_type": "text"
      },
      "source": [
        "<a href=\"https://colab.research.google.com/github/liudiepie/First/blob/main/leedcode001.ipynb\" target=\"_parent\"><img src=\"https://colab.research.google.com/assets/colab-badge.svg\" alt=\"Open In Colab\"/></a>"
      ]
    },
    {
      "cell_type": "markdown",
      "metadata": {
        "id": "NZi_d5mBEcHq"
      },
      "source": [
        "#Two Sum"
      ]
    },
    {
      "cell_type": "code",
      "metadata": {
        "id": "7l6bpb35EldC"
      },
      "source": [
        "class Solution: \n",
        "  def TwoSum(self, nums, target):\n",
        "    \"\"\"\n",
        "    :type nums: List[int]\n",
        "    :type target: int\n",
        "    :rtype: List[int]\n",
        "    \"\"\"\n",
        "    \"\"\"\n",
        "    for i in nums:\n",
        "      j = target - i\n",
        "      start_index = nums.index(i)\n",
        "      next_index = start_index + 1\n",
        "      temp_nums = nums[next_index: ]\n",
        "      if j in temp_nums:\n",
        "        return(nums.index(i), next_index + temp_nums.index(j))\n",
        "    \"\"\"\n",
        "    dict={}\n",
        "    for i in range(len(nums)):\n",
        "      if target - nums[i] not in dict:\n",
        "        dict[nums[i]] = i\n",
        "      else: \n",
        "        return [dict[target-nums[i]], i]\n",
        "      "
      ],
      "execution_count": 3,
      "outputs": []
    }
  ]
}