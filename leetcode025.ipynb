{
  "nbformat": 4,
  "nbformat_minor": 0,
  "metadata": {
    "colab": {
      "name": "leetcode025.ipynb",
      "provenance": [],
      "authorship_tag": "ABX9TyOHmyLvENUC6w1uiozwC8FE",
      "include_colab_link": true
    },
    "kernelspec": {
      "name": "python3",
      "display_name": "Python 3"
    },
    "language_info": {
      "name": "python"
    }
  },
  "cells": [
    {
      "cell_type": "markdown",
      "metadata": {
        "id": "view-in-github",
        "colab_type": "text"
      },
      "source": [
        "<a href=\"https://colab.research.google.com/github/liudiepie/Leetcode_Practice/blob/main/leetcode025.ipynb\" target=\"_parent\"><img src=\"https://colab.research.google.com/assets/colab-badge.svg\" alt=\"Open In Colab\"/></a>"
      ]
    },
    {
      "cell_type": "markdown",
      "metadata": {
        "id": "4DzNYIdbrH3W"
      },
      "source": [
        "# Move Zeroes"
      ]
    },
    {
      "cell_type": "code",
      "metadata": {
        "id": "r98nSBMIrMHK"
      },
      "source": [
        "class Solution:\n",
        "  def moveZeroes(self, nums: List[int]) -> None:\n",
        "    \"\"\"\n",
        "    Do not return anything, modify nums in-place instead.\n",
        "    \"\"\"\n",
        "\n",
        "    pos = 0\n",
        "    for i in range(len(nums)):\n",
        "      if nums[i]:\n",
        "        nums[pos] = nums[i]\n",
        "        pos += 1\n",
        "      \n",
        "    for i in range(pos, len(nums)):\n",
        "      num[i] = 0\n",
        "\n",
        "#Runtime: 48ms, Memory Usage: 14MB"
      ],
      "execution_count": null,
      "outputs": []
    },
    {
      "cell_type": "code",
      "metadata": {
        "id": "P01dhxRTtv_n"
      },
      "source": [
        "class Solution:\n",
        "  def moveZeroes(self, nums: List[int]) -> None:\n",
        "    pos = 0\n",
        "    for i in range(len(nums)):\n",
        "      if nums[i] != 0:\n",
        "        nums[pos], nums[i] = nums[i], nums[pos]\n",
        "        pos += 1\n",
        "# from the comment, where are the zeroes in pos?"
      ],
      "execution_count": null,
      "outputs": []
    }
  ]
}