{
  "nbformat": 4,
  "nbformat_minor": 0,
  "metadata": {
    "colab": {
      "name": "leedcode005.ipynb",
      "provenance": [],
      "authorship_tag": "ABX9TyN7Qj8q8Q3v2rE+HZ3lidtn",
      "include_colab_link": true
    },
    "kernelspec": {
      "name": "python3",
      "display_name": "Python 3"
    },
    "language_info": {
      "name": "python"
    }
  },
  "cells": [
    {
      "cell_type": "markdown",
      "metadata": {
        "id": "view-in-github",
        "colab_type": "text"
      },
      "source": [
        "<a href=\"https://colab.research.google.com/github/liudiepie/Leedcode_Practice/blob/main/leedcode005.ipynb\" target=\"_parent\"><img src=\"https://colab.research.google.com/assets/colab-badge.svg\" alt=\"Open In Colab\"/></a>"
      ]
    },
    {
      "cell_type": "markdown",
      "metadata": {
        "id": "Lk61j1a3mj6k"
      },
      "source": [
        "# Container With Most Water"
      ]
    },
    {
      "cell_type": "code",
      "metadata": {
        "id": "XsdhO9K3mq8k"
      },
      "source": [
        "class Solution:\n",
        "  def maxArea(self, height: List[int]) -> int:\n",
        "    left = 0\n",
        "    right = len(height) - 1 #index\n",
        "    result = 0\n",
        "\n",
        "    while left < right:\n",
        "      water = min(height[left], height[right]) * (right - left)\n",
        "\n",
        "      if water > result:\n",
        "        result = water\n",
        "      \n",
        "      if height[left] < height[right]:\n",
        "        left += 1\n",
        "      else:\n",
        "        right -= 1\n",
        "    return result\n",
        "\n",
        "#Runtime: 60ms"
      ],
      "execution_count": null,
      "outputs": []
    }
  ]
}