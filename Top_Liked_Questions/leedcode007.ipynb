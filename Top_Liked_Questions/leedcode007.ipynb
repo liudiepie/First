{
  "nbformat": 4,
  "nbformat_minor": 0,
  "metadata": {
    "colab": {
      "name": "leedcode007.ipynb",
      "provenance": [],
      "authorship_tag": "ABX9TyMUoXzMqaK8SzcRfe6qd280",
      "include_colab_link": true
    },
    "kernelspec": {
      "name": "python3",
      "display_name": "Python 3"
    },
    "language_info": {
      "name": "python"
    }
  },
  "cells": [
    {
      "cell_type": "markdown",
      "metadata": {
        "id": "view-in-github",
        "colab_type": "text"
      },
      "source": [
        "<a href=\"https://colab.research.google.com/github/liudiepie/Leedcode_Practice/blob/main/leedcode007.ipynb\" target=\"_parent\"><img src=\"https://colab.research.google.com/assets/colab-badge.svg\" alt=\"Open In Colab\"/></a>"
      ]
    },
    {
      "cell_type": "markdown",
      "metadata": {
        "id": "FYKdYL6Drrxu"
      },
      "source": [
        "# Valid Parentheses"
      ]
    },
    {
      "cell_type": "code",
      "metadata": {
        "id": "JzAEVxOWrwPT"
      },
      "source": [
        "class Solution:\n",
        "  def isValid(self, s):\n",
        "    \"\"\"\n",
        "    :type s: str\n",
        "    :rtype: bool\n",
        "    \"\"\"\n",
        "\n",
        "    lookup = {\"(\":\")\", \"[\":\"]\", \"{\",\"}\"}\n",
        "    stack = []\n",
        "\n",
        "    for parenthese in s:\n",
        "      if parenthese in lookup:\n",
        "        stack.append(parentheses)\n",
        "      elif len(stack) == 0 or lookup[stack.pop()] != parenthese:\n",
        "        return False\n",
        "    return len(stack) == 0\n",
        "#Runtime: 36ms"
      ],
      "execution_count": null,
      "outputs": []
    }
  ]
}