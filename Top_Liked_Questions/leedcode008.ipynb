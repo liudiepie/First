{
  "nbformat": 4,
  "nbformat_minor": 0,
  "metadata": {
    "colab": {
      "name": "leedcode008.ipynb",
      "provenance": [],
      "authorship_tag": "ABX9TyNZuFhQAU0M5EKuGCsZ8N1v",
      "include_colab_link": true
    },
    "kernelspec": {
      "name": "python3",
      "display_name": "Python 3"
    },
    "language_info": {
      "name": "python"
    }
  },
  "cells": [
    {
      "cell_type": "markdown",
      "metadata": {
        "id": "view-in-github",
        "colab_type": "text"
      },
      "source": [
        "<a href=\"https://colab.research.google.com/github/liudiepie/Leedcode_Practice/blob/main/leedcode008.ipynb\" target=\"_parent\"><img src=\"https://colab.research.google.com/assets/colab-badge.svg\" alt=\"Open In Colab\"/></a>"
      ]
    },
    {
      "cell_type": "markdown",
      "metadata": {
        "id": "ET2eQLho6KfI"
      },
      "source": [
        "# Merge Two Sorted Lists"
      ]
    },
    {
      "cell_type": "code",
      "metadata": {
        "id": "qaRRiRI66PMs"
      },
      "source": [
        "# Definition for singly-linked list.\n",
        "# class ListNode:\n",
        "#  def __init__(self, x):\n",
        "#   self.val = x\n",
        "#   self.next = None"
      ],
      "execution_count": null,
      "outputs": []
    },
    {
      "cell_type": "code",
      "metadata": {
        "id": "pFTOqL1S8Rui"
      },
      "source": [
        "class Solution:\n",
        "  def mergeTwoList(self, l1, l2):\n",
        "    \"\"\"\n",
        "    :type l1: ListNode\n",
        "    :type l2: ListNode\n",
        "    :rtype: ListNode\n",
        "    \"\"\"\n",
        "\n",
        "    curr = dummy = ListNode(0)\n",
        "    \n",
        "    while l1 and l2:\n",
        "      if l1.val < l2.val:\n",
        "        curr.next = l1\n",
        "        l1 = l1.next\n",
        "      else: \n",
        "        curr.next = l2\n",
        "        l2 = l2.next\n",
        "      curr = curr.next\n",
        "    curr.next = l1 or l2\n",
        "\n",
        "    return dummy.next\n",
        "#Runtime: 48ms, Time Complexity: O(N)"
      ],
      "execution_count": null,
      "outputs": []
    }
  ]
}