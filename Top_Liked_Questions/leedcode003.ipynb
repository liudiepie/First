{
  "nbformat": 4,
  "nbformat_minor": 0,
  "metadata": {
    "colab": {
      "name": "leedcode003.ipynb",
      "provenance": [],
      "authorship_tag": "ABX9TyOJzqWlK7wrVdX50SYXTqSm",
      "include_colab_link": true
    },
    "kernelspec": {
      "name": "python3",
      "display_name": "Python 3"
    },
    "language_info": {
      "name": "python"
    }
  },
  "cells": [
    {
      "cell_type": "markdown",
      "metadata": {
        "id": "view-in-github",
        "colab_type": "text"
      },
      "source": [
        "<a href=\"https://colab.research.google.com/github/liudiepie/Leedcode_Practice/blob/main/leedcode003.ipynb\" target=\"_parent\"><img src=\"https://colab.research.google.com/assets/colab-badge.svg\" alt=\"Open In Colab\"/></a>"
      ]
    },
    {
      "cell_type": "markdown",
      "metadata": {
        "id": "tV9N6nfXPzAq"
      },
      "source": [
        "# Longest Substring Without Repeating Characters"
      ]
    },
    {
      "cell_type": "code",
      "metadata": {
        "id": "LTI4PWjiP9Lg"
      },
      "source": [
        "class Solution(object):\n",
        "  def lengthOfLongestSubstring(self, s):\n",
        "    \"\"\"\n",
        "    :type s: str\n",
        "    :rtype: int\n",
        "    \"\"\"\n",
        "    d = {}\n",
        "    start = -1 #max = i - start, if i = 0, max should be 1. \n",
        "    max = 0\n",
        "\n",
        "    for i in range(len(s)):\n",
        "      #s[i] in d ...\n",
        "      if s[i] in d and d[s[i]] > start:\n",
        "        start = d[s[i]]\n",
        "        d[s[i]] = i\n",
        "\n",
        "      #s[i] not in d ...\n",
        "      else:\n",
        "        d[s[i]] = i\n",
        "        if i - start > max:\n",
        "          max = i - start\n",
        "    return max\n",
        "#Runtime: 48ms"
      ],
      "execution_count": null,
      "outputs": []
    }
  ]
}