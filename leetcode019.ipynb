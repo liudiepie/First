{
  "nbformat": 4,
  "nbformat_minor": 0,
  "metadata": {
    "colab": {
      "name": "leetcode019.ipynb",
      "provenance": [],
      "authorship_tag": "ABX9TyOnOaSplN8d7mO044yKOVz/",
      "include_colab_link": true
    },
    "kernelspec": {
      "name": "python3",
      "display_name": "Python 3"
    },
    "language_info": {
      "name": "python"
    }
  },
  "cells": [
    {
      "cell_type": "markdown",
      "metadata": {
        "id": "view-in-github",
        "colab_type": "text"
      },
      "source": [
        "<a href=\"https://colab.research.google.com/github/liudiepie/Leetcode_Practice/blob/main/leetcode019.ipynb\" target=\"_parent\"><img src=\"https://colab.research.google.com/assets/colab-badge.svg\" alt=\"Open In Colab\"/></a>"
      ]
    },
    {
      "cell_type": "markdown",
      "metadata": {
        "id": "U1quOxqzuxg7"
      },
      "source": [
        "# Intersection of Two Linked Lists"
      ]
    },
    {
      "cell_type": "code",
      "metadata": {
        "id": "o1A1ynBTu3qq"
      },
      "source": [
        "# Definition of Linked Lists\n",
        "class ListNode(object):\n",
        "  def __init__(self, x):\n",
        "    self.val = x\n",
        "    self.next = None"
      ],
      "execution_count": null,
      "outputs": []
    },
    {
      "cell_type": "code",
      "metadata": {
        "id": "P259tuK6vI5N"
      },
      "source": [
        "class Solution(object):\n",
        "  def getIntersectionNode(self, headA, headB):\n",
        "    \"\"\"\n",
        "    :type head1, head1: ListNode\n",
        "    :rtype: ListNode\n",
        "    \"\"\"\n",
        "\n",
        "    p1, p2 = headA, headB\n",
        "\n",
        "    while p1 != p2:\n",
        "      if not p1:\n",
        "        p1 = headB\n",
        "      else: \n",
        "        p1 = p1.next\n",
        "      if not p2:\n",
        "        p2 = headA\n",
        "      else:\n",
        "        p2 = p2.next\n",
        "    return p2\n",
        "#Runtime: 192ms, O(n) time, O(1) memory"
      ],
      "execution_count": null,
      "outputs": []
    }
  ]
}