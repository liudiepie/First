{
  "nbformat": 4,
  "nbformat_minor": 0,
  "metadata": {
    "colab": {
      "name": "leetcode035.ipynb",
      "provenance": [],
      "authorship_tag": "ABX9TyNDyovkGrqGU7QbhaLCvdEs",
      "include_colab_link": true
    },
    "kernelspec": {
      "name": "python3",
      "display_name": "Python 3"
    },
    "language_info": {
      "name": "python"
    }
  },
  "cells": [
    {
      "cell_type": "markdown",
      "metadata": {
        "id": "view-in-github",
        "colab_type": "text"
      },
      "source": [
        "<a href=\"https://colab.research.google.com/github/liudiepie/Leetcode_Practice/blob/main/leetcode035.ipynb\" target=\"_parent\"><img src=\"https://colab.research.google.com/assets/colab-badge.svg\" alt=\"Open In Colab\"/></a>"
      ]
    },
    {
      "cell_type": "markdown",
      "metadata": {
        "id": "03nNbWoHs8W8"
      },
      "source": [
        "# Sort Colors"
      ]
    },
    {
      "cell_type": "code",
      "metadata": {
        "id": "A5VHTuYvtClN"
      },
      "source": [
        "class Solution:\n",
        "  def sortColors(self, nums: List[int]) -> None:\n",
        "    \"\"\"\n",
        "    Do not return anything, modify nums in-place instead.\n",
        "    \"\"\"\n",
        "    p, q = 0, 0     # p is first index, q is comparing index\n",
        "    k = len(num) - 1  # k is last index\n",
        "\n",
        "    while q <= k:\n",
        "      if p < q and nums[q] == 0:\n",
        "        num[p], num[q] = num[q], num[p]\n",
        "        p += 1\n",
        "      elif nums[q] == 2:\n",
        "        num[k], num[q] = num[q], num[k]\n",
        "        k -= 1\n",
        "      else:\n",
        "        q += 1\n",
        "#Runtime: 32ms, Memory Usage: 12.7MB"
      ],
      "execution_count": null,
      "outputs": []
    }
  ]
}