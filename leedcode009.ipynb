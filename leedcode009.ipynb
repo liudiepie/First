{
  "nbformat": 4,
  "nbformat_minor": 0,
  "metadata": {
    "colab": {
      "name": "leedcode009.ipynb",
      "provenance": [],
      "authorship_tag": "ABX9TyMhmqxwh88It9+uhgXPxorB",
      "include_colab_link": true
    },
    "kernelspec": {
      "name": "python3",
      "display_name": "Python 3"
    },
    "language_info": {
      "name": "python"
    }
  },
  "cells": [
    {
      "cell_type": "markdown",
      "metadata": {
        "id": "view-in-github",
        "colab_type": "text"
      },
      "source": [
        "<a href=\"https://colab.research.google.com/github/liudiepie/Leedcode_Practice/blob/main/leedcode009.ipynb\" target=\"_parent\"><img src=\"https://colab.research.google.com/assets/colab-badge.svg\" alt=\"Open In Colab\"/></a>"
      ]
    },
    {
      "cell_type": "markdown",
      "metadata": {
        "id": "W9CTJPZQFyaZ"
      },
      "source": [
        "# Generate Parentheses"
      ]
    },
    {
      "cell_type": "code",
      "metadata": {
        "id": "oG2zy2HzF4J3"
      },
      "source": [
        "class Solution:\n",
        "  def generateParentheses(self, n):\n",
        "    \"\"\"\n",
        "    :type n: int\n",
        "    :rtype: List[str]\n",
        "    \"\"\"\n",
        "\n",
        "    if n == 0:\n",
        "      return []\n",
        "    \n",
        "    result = []\n",
        "    self.helpler(n, n, '', result)\n",
        "    return result\n",
        "\n",
        "  def helpler(self, l, r, item, result):\n",
        "    if r < l: #the \n",
        "      return\n",
        "    if l > 0:\n",
        "      self.helpler(l-1, r, item + '(', result)\n",
        "    if r > 0:\n",
        "      self.helpler(l, r-1, item + ')', result)\n",
        "    if l == 0 and r == 0: \n",
        "      result.append(item)\n",
        "\n",
        "#Runtime: 40ms"
      ],
      "execution_count": null,
      "outputs": []
    },
    {
      "cell_type": "code",
      "metadata": {
        "id": "bQExaMKULD0R"
      },
      "source": [
        "class Solution(object):\n",
        "    def generateParenthesis(self, n):\n",
        "        \"\"\"\n",
        "        :type n: int\n",
        "        :rtype: List[str]\n",
        "        \"\"\"\n",
        "        def generate(l,r,p,result=[]):\n",
        "            if l:\n",
        "                generate(l-1,r,p+\"(\")\n",
        "            if r > l:\n",
        "                generate(l,r-1,p+\")\")\n",
        "            if not r:\n",
        "                result.append(p) \n",
        "            return result\n",
        "        \n",
        "        return generate(n,n,'')"
      ],
      "execution_count": null,
      "outputs": []
    }
  ]
}