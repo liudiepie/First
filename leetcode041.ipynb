{
  "nbformat": 4,
  "nbformat_minor": 0,
  "metadata": {
    "colab": {
      "name": "leetcode041.ipynb",
      "provenance": [],
      "authorship_tag": "ABX9TyOkmY0rd/1EX98IeMiXEalN",
      "include_colab_link": true
    },
    "kernelspec": {
      "name": "python3",
      "display_name": "Python 3"
    },
    "language_info": {
      "name": "python"
    }
  },
  "cells": [
    {
      "cell_type": "markdown",
      "metadata": {
        "id": "view-in-github",
        "colab_type": "text"
      },
      "source": [
        "<a href=\"https://colab.research.google.com/github/liudiepie/Leetcode_Practice/blob/main/leetcode041.ipynb\" target=\"_parent\"><img src=\"https://colab.research.google.com/assets/colab-badge.svg\" alt=\"Open In Colab\"/></a>"
      ]
    },
    {
      "cell_type": "markdown",
      "metadata": {
        "id": "l31EBPZFqPgz"
      },
      "source": [
        "# Product of Array Except Self"
      ]
    },
    {
      "cell_type": "code",
      "metadata": {
        "id": "NtrMcq9zqUKv"
      },
      "source": [
        "class Solution:\n",
        "  def productExceptSelf(self, nums: List[int]) -> List[int]:\n",
        "    # nums = [1, 2, 3, 4]\n",
        "    # ans = [24, 12, 8, 6]\n",
        "    # 24 =  2*3*4\n",
        "    # 12 = 1* 3*4\n",
        "    # 8 =  1*2* 4\n",
        "    # 6 =  1*2*3\n",
        "    # left = [1, 1, 2, 6]\n",
        "    # right = [24, 12, 4, 1]\n",
        "    # ans = left .* right\n",
        "    length = len(nums)\n",
        "\n",
        "    L, R, ans = [0]*length, [0]*length, [0]*length\n",
        "    L[0] = 1\n",
        "    for i in range(1, length):\n",
        "      L[i] = nums[i-1] * L[i - 1]\n",
        "    \n",
        "    R[length - 1] = 1\n",
        "    for i in reversed(range(length-1)):\n",
        "      R[i] = nums[i + 1] * R[i + 1]\n",
        "\n",
        "    for i in range(length):\n",
        "      ans[i] = L[i] * R[i]\n",
        "\n",
        "    return ans\n",
        "#Time complexity: O(N), space complexity: O(N)"
      ],
      "execution_count": null,
      "outputs": []
    },
    {
      "cell_type": "code",
      "metadata": {
        "id": "icoL9QdWuqx8"
      },
      "source": [
        "class Solution:\n",
        "  def productExceptSelf(self, nums: List[int]) -> List[int]:\n",
        "\n",
        "    length = len(nums)\n",
        "\n",
        "    ans = [0]*length\n",
        "    ans[0] = 1\n",
        "    for i in range(1, length):\n",
        "      ans[i] = nums[i-1] * L[i - 1]\n",
        "    \n",
        "    R = 1\n",
        "    for i in reversed(range(length)):\n",
        "      ans[i] = ans[i] * R\n",
        "      R *= nums[i]\n",
        "\n",
        "    return ans\n",
        "#Time complexity: O(N), space complexity: O(1)"
      ],
      "execution_count": null,
      "outputs": []
    }
  ]
}