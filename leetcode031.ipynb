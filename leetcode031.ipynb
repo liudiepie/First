{
  "nbformat": 4,
  "nbformat_minor": 0,
  "metadata": {
    "colab": {
      "name": "leetcode031.ipynb",
      "provenance": [],
      "authorship_tag": "ABX9TyOznykVYvW/ys2oS3NneZ5t",
      "include_colab_link": true
    },
    "kernelspec": {
      "name": "python3",
      "display_name": "Python 3"
    },
    "language_info": {
      "name": "python"
    }
  },
  "cells": [
    {
      "cell_type": "markdown",
      "metadata": {
        "id": "view-in-github",
        "colab_type": "text"
      },
      "source": [
        "<a href=\"https://colab.research.google.com/github/liudiepie/Leetcode_Practice/blob/main/leetcode031.ipynb\" target=\"_parent\"><img src=\"https://colab.research.google.com/assets/colab-badge.svg\" alt=\"Open In Colab\"/></a>"
      ]
    },
    {
      "cell_type": "markdown",
      "metadata": {
        "id": "ol_mwcuUhF3A"
      },
      "source": [
        "# Remove Duplicates from Sorted Array"
      ]
    },
    {
      "cell_type": "code",
      "metadata": {
        "id": "BVCaTX1UhKYH"
      },
      "source": [
        "class Solution:\n",
        "  def removeDuplicates(self, nums):\n",
        "    \"\"\"\n",
        "    :type nums: List[int]\n",
        "    :rtype: int\n",
        "    \"\"\"\n",
        "\n",
        "    if not nums:\n",
        "      return 0\n",
        "    \n",
        "    count = 0\n",
        "    for i in range(len(nums)):\n",
        "      if nums[count] != nums[i]:\n",
        "        count += 1\n",
        "        nums[count] = nums[i]\n",
        "    return count + 1\n",
        "#Runtime: 60ms"
      ],
      "execution_count": null,
      "outputs": []
    }
  ]
}