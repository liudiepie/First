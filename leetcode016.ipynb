{
  "nbformat": 4,
  "nbformat_minor": 0,
  "metadata": {
    "colab": {
      "name": "leetcode016.ipynb",
      "provenance": [],
      "authorship_tag": "ABX9TyNoa0YVYDPN1nvugnXckJKV",
      "include_colab_link": true
    },
    "kernelspec": {
      "name": "python3",
      "display_name": "Python 3"
    },
    "language_info": {
      "name": "python"
    }
  },
  "cells": [
    {
      "cell_type": "markdown",
      "metadata": {
        "id": "view-in-github",
        "colab_type": "text"
      },
      "source": [
        "<a href=\"https://colab.research.google.com/github/liudiepie/Leetcode_Practice/blob/main/leetcode016.ipynb\" target=\"_parent\"><img src=\"https://colab.research.google.com/assets/colab-badge.svg\" alt=\"Open In Colab\"/></a>"
      ]
    },
    {
      "cell_type": "markdown",
      "metadata": {
        "id": "0wm05FqwTYym"
      },
      "source": [
        "# Best time to Buy and Sell Stock"
      ]
    },
    {
      "cell_type": "code",
      "metadata": {
        "id": "bSm5FS8fTebI"
      },
      "source": [
        "class Solution(object):\n",
        "  def maxProfit(self, prices):\n",
        "    \"\"\"\n",
        "    :type prices: List[int]\n",
        "    :rtype: int\n",
        "    \"\"\"\n",
        "\n",
        "    max_profit, min_price = 0, float(\"inf\")\n",
        "\n",
        "    for price in prices:\n",
        "      min_price = min(min_price, price)\n",
        "      max_profit = max(max_profit, price - min_price)\n",
        "\n",
        "    return max_profit\n",
        "Runtime: 24ms"
      ],
      "execution_count": null,
      "outputs": []
    }
  ]
}