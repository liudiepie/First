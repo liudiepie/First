{
  "nbformat": 4,
  "nbformat_minor": 0,
  "metadata": {
    "colab": {
      "name": "leetcode038.ipynb",
      "provenance": [],
      "authorship_tag": "ABX9TyNZ6umk3UdI/5/nvRXOBTQZ",
      "include_colab_link": true
    },
    "kernelspec": {
      "name": "python3",
      "display_name": "Python 3"
    },
    "language_info": {
      "name": "python"
    }
  },
  "cells": [
    {
      "cell_type": "markdown",
      "metadata": {
        "id": "view-in-github",
        "colab_type": "text"
      },
      "source": [
        "<a href=\"https://colab.research.google.com/github/liudiepie/Leetcode_Practice/blob/main/leetcode038.ipynb\" target=\"_parent\"><img src=\"https://colab.research.google.com/assets/colab-badge.svg\" alt=\"Open In Colab\"/></a>"
      ]
    },
    {
      "cell_type": "markdown",
      "metadata": {
        "id": "9iEUj8QZOkoB"
      },
      "source": [
        "# Find All Numbers Disappeared in an Array"
      ]
    },
    {
      "cell_type": "code",
      "metadata": {
        "id": "KsEz_3CLPN4f"
      },
      "source": [
        "class Solution:\n",
        "  def findDisappearedNumbers(self, nums: List[int]) -> List[int]:\n",
        "    len_array = len(nums) + 1\n",
        "    a = set([i for i in range(1, len_array)])\n",
        "    b = set(nums)\n",
        "    return list(a-b)\n",
        "#Runtime: 408ms, Memory Usage: 24.2MB"
      ],
      "execution_count": null,
      "outputs": []
    }
  ]
}