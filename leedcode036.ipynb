{
  "nbformat": 4,
  "nbformat_minor": 0,
  "metadata": {
    "colab": {
      "name": "leedcode036.ipynb",
      "provenance": [],
      "authorship_tag": "ABX9TyMMxAw3b0yDHQxLMp8gIaYs",
      "include_colab_link": true
    },
    "kernelspec": {
      "name": "python3",
      "display_name": "Python 3"
    },
    "language_info": {
      "name": "python"
    }
  },
  "cells": [
    {
      "cell_type": "markdown",
      "metadata": {
        "id": "view-in-github",
        "colab_type": "text"
      },
      "source": [
        "<a href=\"https://colab.research.google.com/github/liudiepie/Leetcode_Practice/blob/main/leedcode036.ipynb\" target=\"_parent\"><img src=\"https://colab.research.google.com/assets/colab-badge.svg\" alt=\"Open In Colab\"/></a>"
      ]
    },
    {
      "cell_type": "markdown",
      "metadata": {
        "id": "71Rocr_s7anw"
      },
      "source": [
        "# Word Search"
      ]
    },
    {
      "cell_type": "code",
      "metadata": {
        "id": "lPlmezwN7eE4"
      },
      "source": [
        "class Solution:\n",
        "  def exist(self, board: List[List[str]], word: str) -> bool:\n",
        "    for i in range(len(board)):\n",
        "      for j in range(len(board[0])):\n",
        "        if self.helper(board, i, j, word, 0):\n",
        "          return True\n",
        "    return False\n",
        "\n",
        "  def helper(self, board, i, j, word, wordIndex):\n",
        "    if wordIndex == len(word):\n",
        "      return True\n",
        "    \n",
        "    if i < 0 or i >= len(board) or j < 0 or j >= len(board[0]) or word[wordIndex] != board[i][j]:\n",
        "      return False\n",
        "\n",
        "    board[i][j] = \"#\"\n",
        "\n",
        "    found = self.helper(board, i+1, j, word, wordIndex+1) \\\n",
        "         or self.helper(board, i, j+1, word, wordIndex+1) \\\n",
        "         or self.helper(board, i, j-1, word, wordIndex+1) \\\n",
        "         or self.helper(board, i-1, j, word, wordIndex+1) \\\n",
        "\n",
        "    board[i][j] = word[wordIndex]\n",
        "\n",
        "    return found"
      ],
      "execution_count": null,
      "outputs": []
    }
  ]
}