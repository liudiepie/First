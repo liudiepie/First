{
  "nbformat": 4,
  "nbformat_minor": 0,
  "metadata": {
    "colab": {
      "name": "leedcode006.ipynb",
      "provenance": [],
      "authorship_tag": "ABX9TyOlTigu+qcE43nQpIT1c7Pv",
      "include_colab_link": true
    },
    "kernelspec": {
      "name": "python3",
      "display_name": "Python 3"
    },
    "language_info": {
      "name": "python"
    }
  },
  "cells": [
    {
      "cell_type": "markdown",
      "metadata": {
        "id": "view-in-github",
        "colab_type": "text"
      },
      "source": [
        "<a href=\"https://colab.research.google.com/github/liudiepie/Leedcode_Practice/blob/main/leedcode006.ipynb\" target=\"_parent\"><img src=\"https://colab.research.google.com/assets/colab-badge.svg\" alt=\"Open In Colab\"/></a>"
      ]
    },
    {
      "cell_type": "markdown",
      "metadata": {
        "id": "JZsWpRpW0Biw"
      },
      "source": [
        "# 3Sum"
      ]
    },
    {
      "cell_type": "code",
      "metadata": {
        "id": "59Zkxbma0GHg"
      },
      "source": [
        "class Solution:\n",
        "  def threeSum(self, nums: List[int]) -> List[List[int]]:\n",
        "    n = len(nums)\n",
        "    result = []\n",
        "    nums.sort()\n",
        "\n",
        "    for i in range(n-2):\n",
        "      if nums[i] + nums[i+1] + nums[i+2] > 0:\n",
        "        break\n",
        "      if nums[i] + nums[n-2] + nums[n-1] < 0:\n",
        "        continue\n",
        "      if  0 < i and nums[i] == num[i-1]:\n",
        "        continue\n",
        "      l, r = i+1, n-1\n",
        "      while l < r:\n",
        "        tmp = nums[i] + nums[l] + nums[r]\n",
        "        if tmp == 0:\n",
        "          result.append([nums[i],nums[l],nums[r]])\n",
        "          while l+1 < r and nums[l] == nums[l+1]:\n",
        "            l += 1\n",
        "          l += 1\n",
        "          while l < r-1 and nums[r] == nums[r-1]:\n",
        "            r -= 1\n",
        "          r -= 1\n",
        "        elif tmp < 0:\n",
        "          l += 1\n",
        "        else:\n",
        "          r -= 1\n",
        "    return result\n",
        "#Runtime: 792ms"
      ],
      "execution_count": null,
      "outputs": []
    }
  ]
}