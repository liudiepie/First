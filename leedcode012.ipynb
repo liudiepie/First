{
  "nbformat": 4,
  "nbformat_minor": 0,
  "metadata": {
    "colab": {
      "name": "leedcode012.ipynb",
      "provenance": [],
      "authorship_tag": "ABX9TyMwZDXGMf2w8FDRpPI1S9UW",
      "include_colab_link": true
    },
    "kernelspec": {
      "name": "python3",
      "display_name": "Python 3"
    },
    "language_info": {
      "name": "python"
    }
  },
  "cells": [
    {
      "cell_type": "markdown",
      "metadata": {
        "id": "view-in-github",
        "colab_type": "text"
      },
      "source": [
        "<a href=\"https://colab.research.google.com/github/liudiepie/Leedcode_Practice/blob/main/leedcode012.ipynb\" target=\"_parent\"><img src=\"https://colab.research.google.com/assets/colab-badge.svg\" alt=\"Open In Colab\"/></a>"
      ]
    },
    {
      "cell_type": "markdown",
      "metadata": {
        "id": "8PrXXXPvqYxb"
      },
      "source": [
        "# Climbing Stairs"
      ]
    },
    {
      "cell_type": "code",
      "metadata": {
        "id": "4q0KHfmwqd4V"
      },
      "source": [
        "class Solution:\n",
        "  def climbStairs(self, n):\n",
        "    \"\"\"\n",
        "    :type n: int\n",
        "    :rtype: int\n",
        "    \"\"\"\n",
        "\n",
        "    prev, current = 0, 1\n",
        "    for i in range(n):\n",
        "      prev, current = current, prev + current\n",
        "    return current\n",
        "\n",
        "#Runtime: 36ms"
      ],
      "execution_count": null,
      "outputs": []
    }
  ]
}